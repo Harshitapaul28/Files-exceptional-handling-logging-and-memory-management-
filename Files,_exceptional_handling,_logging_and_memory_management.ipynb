{
  "nbformat": 4,
  "nbformat_minor": 0,
  "metadata": {
    "colab": {
      "provenance": []
    },
    "kernelspec": {
      "name": "python3",
      "display_name": "Python 3"
    },
    "language_info": {
      "name": "python"
    }
  },
  "cells": [
    {
      "cell_type": "markdown",
      "source": [
        "**Files, exceptional handling,\n",
        "logging and memory\n",
        "management Assignment**\n",
        "\n",
        "**THEORITICAL QUESTION**\n",
        "\n",
        "1. What is the difference between interpreted and compiled languages?\n",
        "\n",
        "Ans-Interpreted languages run code line by line (e.g., Python), while compiled languages convert the entire code into machine language before running (e.g., C, Java).\n",
        "\n",
        "2.What is exception handling in Python?\n",
        "\n",
        "Ans-Exception handling in Python is a way to manage errors that occur during program execution. It uses `try`, `except`, `finally`, and `else` blocks to catch and handle errors without crashing the program.\n",
        "\n",
        "3.What is the purpose of the finally block in exception handling?\n",
        "\n",
        "Ans-The `finally` block is used to execute code regardless of whether an exception occurs or not. It is often used for cleanup actions like closing files or releasing resources.\n",
        "\n",
        "4.What is logging in Python?\n",
        "\n",
        "Ans-Logging in Python is a way to track events that happen while a program runs. It helps in debugging and monitoring by recording messages, errors, and warnings. The `logging` module is used for this.\n",
        "\n",
        "5.What is the significance of the __del__ method in Python?\n",
        "\n",
        "Ans-The `__del__` method in Python is a destructor. It is called automatically when an object is deleted or goes out of scope to free resources. However, it is not commonly used because Python has automatic garbage collection.\n",
        "\n",
        "6.What is the difference between import and from ... import in Python?\n",
        "\n",
        "Ans-- `import module` imports the whole module. You need to use `module.function()`.  \n",
        "- `from module import function` imports only a specific function. You can use it directly as `function()`.\n",
        "\n",
        "7.How can you handle multiple exceptions in Python?\n",
        "\n",
        "Ans-You can handle multiple exceptions in Python using a single `except` block with a tuple of exception types or multiple `except` blocks.  \n",
        "\n",
        "### Example 1: Using a tuple  \n",
        "```python\n",
        "try:\n",
        "    x = 10 / 0\n",
        "except (ZeroDivisionError, ValueError) as e:\n",
        "    print(f\"Error: {e}\")\n",
        "```\n",
        "\n",
        "### Example 2: Using multiple `except` blocks  \n",
        "```python\n",
        "try:\n",
        "    x = int(\"abc\")\n",
        "except ZeroDivisionError:\n",
        "    print(\"Cannot divide by zero!\")\n",
        "except ValueError:\n",
        "    print(\"Invalid value!\")\n",
        "```\n",
        "8.What is the purpose of the with statement when handling files in Python?\n",
        "\n",
        "Ans-The `with` statement is used to handle files in Python because it automatically closes the file after use, even if an error occurs. This prevents resource leaks and makes code cleaner. Example:\n",
        "\n",
        "```python\n",
        "with open(\"file.txt\", \"r\") as file:\n",
        "    content = file.read()  # File is automatically closed after this block\n",
        "```\n",
        "9.What is the difference between multithreading and multiprocessing?\n",
        "\n",
        "Ans-- **Multithreading**: Runs multiple threads within the same process, sharing memory. Good for I/O tasks.  \n",
        "- **Multiprocessing**: Runs multiple processes, each with its own memory. Good for CPU-intensive tasks.\n",
        "\n",
        "10.What are the advantages of using logging in a program?\n",
        "\n",
        "Ans-Logging helps in:  \n",
        "\n",
        "1. **Debugging** – Find and fix errors easily.  \n",
        "2. **Tracking** – Keep records of program execution.  \n",
        "3. **Performance Monitoring** – Identify slow parts of code.  \n",
        "4. **Error Handling** – Save errors for future analysis.  \n",
        "5. **Better Maintenance** – Understand program flow over time.\n",
        "\n",
        "11.What is memory management in Python?\n",
        "\n",
        "Ans-Memory management in Python is the process of handling memory allocation and deallocation automatically. Python uses **reference counting** and **garbage collection** to free unused memory. The **Python Memory Manager** manages memory efficiently to optimize performance.\n",
        "\n",
        "12.What are the basic steps involved in exception handling in Python?\n",
        "\n",
        "Ans-The basic steps in exception handling in Python are:  \n",
        "\n",
        "1. **Try** – Write the code that might cause an error inside a `try` block.  \n",
        "2. **Except** – Handle the error using an `except` block.  \n",
        "3. **Else** – (Optional) Run code if no error occurs.  \n",
        "4. **Finally** – (Optional) Execute code no matter what.  \n",
        "\n",
        "Example:  \n",
        "```python\n",
        "try:\n",
        "    x = 10 / 0  # Error: Division by zero\n",
        "except ZeroDivisionError:\n",
        "    print(\"Cannot divide by zero!\")\n",
        "finally:\n",
        "    print(\"This will always run.\")\n",
        "```\n",
        "13. Why is memory management important in Python?\n",
        "\n",
        "Ans-Memory management is important in Python to optimize performance, prevent memory leaks, and ensure efficient use of resources. Python handles memory automatically using **garbage collection** to free unused memory.\n",
        "\n",
        "14.What is the role of try and except in exception handling?\n",
        "\n",
        "Ans-`try` and `except` are used for handling errors in Python.  \n",
        "\n",
        "- `try`: Runs the code that might cause an error.  \n",
        "- `except`: Handles the error if it occurs, preventing the program from crashing.  \n",
        "\n",
        "Example:  \n",
        "```python\n",
        "try:\n",
        "    x = 10 / 0  # This will cause an error\n",
        "except ZeroDivisionError:\n",
        "    print(\"Cannot divide by zero!\")  # This runs instead of crashing\n",
        "```\n",
        "15. How does Python's garbage collection system work?\n",
        "\n",
        "Ans-Python's garbage collection automatically frees unused memory using **reference counting** and **cyclic garbage collection**. When an object's reference count drops to zero, Python deletes it. It also detects and removes circular references using the **gc module**.\n",
        "\n",
        "16.F What is the purpose of the else block in exception handling?\n",
        "\n",
        "Ans-In Python, the `else` block in exception handling runs if no exceptions occur in the `try` block.\n",
        "\n",
        "17.What are the common logging levels in Python?\n",
        "\n",
        "Ans-The common logging levels in Python are:  \n",
        "\n",
        "1. **DEBUG** – Detailed information for diagnosing problems.  \n",
        "2. **INFO** – General information about the program’s execution.  \n",
        "3. **WARNING** – Indicates a potential issue but not an error.  \n",
        "4. **ERROR** – A serious problem that prevents part of the program from running.  \n",
        "5. **CRITICAL** – A severe error that may stop the program completely.  \n",
        "\n",
        "These levels help in managing logs efficiently.\n",
        "\n",
        "18.What is the difference between os.fork() and multiprocessing in Python?\n",
        "\n",
        "Ans-`os.fork()` creates a new child process by duplicating the parent process, working only on Unix-based systems.  \n",
        "\n",
        "`multiprocessing` is a Python module that provides a higher-level interface for creating and managing multiple processes, working on both Windows and Unix.\n",
        "\n",
        "19.What is the importance of closing a file in Python?\n",
        "\n",
        "Ans-Closing a file in Python is important because it:  \n",
        "\n",
        "1. **Frees up system resources** (prevents memory leaks).  \n",
        "2. **Ensures data is saved** (especially when writing).  \n",
        "3. **Prevents file corruption** (avoids unexpected errors).  \n",
        "\n",
        "Always close a file using `file.close()` or a `with open()` statement.\n",
        "\n",
        "20.What is the difference between file.read() and file.readline() in Python?\n",
        "\n",
        "Ans-- `file.read()`: Reads the entire file as a single string.  \n",
        "- `file.readline()`: Reads only one line from the file at a time.\n",
        "\n",
        "21.What is the logging module in Python used for?\n",
        "\n",
        "Ans-The `logging` module in Python is used to record (log) messages for debugging and tracking events in a program. It helps in identifying errors and monitoring the program's execution.\n",
        "\n",
        "22.What is the os module in Python used for in file handling?\n",
        "\n",
        "Ans-The `os` module in Python is used for interacting with the operating system. In file handling, it helps with tasks like creating, deleting, and navigating files and directories.\n",
        "\n",
        "23.What are the challenges associated with memory management in Python?\n",
        "\n",
        "Ans-Python’s memory management challenges include:  \n",
        "\n",
        "1. **Garbage Collection Overhead** – Python’s automatic memory management can sometimes slow down performance.  \n",
        "2. **Memory Leaks** – Poor handling of references (e.g., circular references) can lead to memory not being freed.  \n",
        "3. **High Memory Usage** – Python objects have extra memory overhead compared to lower-level languages like C.  \n",
        "4. **Global Interpreter Lock (GIL)** – Limits true parallel execution, affecting memory efficiency in multi-threading.  \n",
        "5. **Fragmentation** – Frequent allocations and deallocations can lead to inefficient memory use.  \n",
        "\n",
        "Using tools like `gc` (garbage collector module) and memory profilers can help manage these issues.\n",
        "\n",
        "24.How do you raise an exception manually in Python?\n",
        "\n",
        "Ans-You can raise an exception manually using the `raise` keyword.  \n",
        "\n",
        "Example:  \n",
        "```python\n",
        "raise ValueError(\"This is an error message\")\n",
        "```\n",
        "25.Why is it important to use multithreading in certain applications>\n",
        "\n",
        "Ans-Multithreading helps run multiple tasks at the same time, making programs faster and more responsive. It is useful for applications like web servers, games, and data processing.\n",
        "\n",
        "\n",
        "\n"
      ],
      "metadata": {
        "id": "muvVxNzOdmuG"
      }
    },
    {
      "cell_type": "markdown",
      "source": [
        "**Practical Questions**"
      ],
      "metadata": {
        "id": "mkfxQLxbizOA"
      }
    },
    {
      "cell_type": "markdown",
      "source": [
        "1.How can you open a file for writing in Python and write a string to it?"
      ],
      "metadata": {
        "id": "MDCyc-6Hi8v3"
      }
    },
    {
      "cell_type": "code",
      "source": [
        "with open(\"file.txt\", \"w\") as f:\n",
        "    f.write(\"Hello, World!\")\n",
        "print(\"File written successfully!\")\n"
      ],
      "metadata": {
        "colab": {
          "base_uri": "https://localhost:8080/"
        },
        "id": "bv_q-ucAjEQW",
        "outputId": "ea279b36-fbc4-4f9c-ec30-2b5949674dad"
      },
      "execution_count": 3,
      "outputs": [
        {
          "output_type": "stream",
          "name": "stdout",
          "text": [
            "File written successfully!\n"
          ]
        }
      ]
    },
    {
      "cell_type": "code",
      "execution_count": null,
      "metadata": {
        "id": "SN2jWYRjdkCt"
      },
      "outputs": [],
      "source": []
    },
    {
      "cell_type": "markdown",
      "source": [
        "2.Write a Python program to read the contents of a file and print each line?"
      ],
      "metadata": {
        "id": "eWtAXPxZjXJC"
      }
    },
    {
      "cell_type": "code",
      "source": [
        "try:\n",
        "    with open(\"sample.txt\", \"r\") as file:\n",
        "        for line in file:\n",
        "            print(line.strip())  # Removes extra spaces or newlines\n",
        "except FileNotFoundError:\n",
        "    print(\"Error: The file 'sample.txt' was not found.\")\n",
        "except Exception as e:\n",
        "    print(f\"An error occurred: {e}\")\n"
      ],
      "metadata": {
        "colab": {
          "base_uri": "https://localhost:8080/"
        },
        "id": "rE9Gzh-Ijgom",
        "outputId": "0c29aad2-4ac9-44f6-975a-593963bb60a5"
      },
      "execution_count": 7,
      "outputs": [
        {
          "output_type": "stream",
          "name": "stdout",
          "text": [
            "Error: The file 'sample.txt' was not found.\n"
          ]
        }
      ]
    },
    {
      "cell_type": "markdown",
      "source": [
        "3.How would you handle a case where the file doesn't exist while trying to open it for reading?"
      ],
      "metadata": {
        "id": "UamxsdMZj_gh"
      }
    },
    {
      "cell_type": "code",
      "source": [
        "try:\n",
        "    with open(\"file_that_does_not_exist.txt\", \"r\") as file:\n",
        "        content = file.read()\n",
        "        print(content)\n",
        "except FileNotFoundError:\n",
        "    print(\"Error: The file does not exist. Please check the filename and try again.\")\n"
      ],
      "metadata": {
        "colab": {
          "base_uri": "https://localhost:8080/"
        },
        "id": "FNAnpBSpkFbg",
        "outputId": "5fd0afc9-ad18-4311-efe8-98cf9823e5ab"
      },
      "execution_count": 8,
      "outputs": [
        {
          "output_type": "stream",
          "name": "stdout",
          "text": [
            "Error: The file does not exist. Please check the filename and try again.\n"
          ]
        }
      ]
    },
    {
      "cell_type": "markdown",
      "source": [
        "4.Write a Python script that reads from one file and writes its content to another file?"
      ],
      "metadata": {
        "id": "x0iLWN6NkNcy"
      }
    },
    {
      "cell_type": "code",
      "source": [
        "try:\n",
        "    # Open the source file in read mode\n",
        "    with open(\"source.txt\", \"r\") as source:\n",
        "        content = source.read()  # Read content\n",
        "\n",
        "    # Open the destination file in write mode\n",
        "    with open(\"destination.txt\", \"w\") as destination:\n",
        "        destination.write(content)  # Write content\n",
        "\n",
        "    print(\"File copied successfully!\")\n",
        "\n",
        "except FileNotFoundError:\n",
        "    print(\"Error: source.txt not found. Please check the file name and path.\")\n",
        "\n",
        "except Exception as e:\n",
        "    print(f\"An error occurred: {e}\")\n"
      ],
      "metadata": {
        "colab": {
          "base_uri": "https://localhost:8080/"
        },
        "id": "Y5IJhevhkS2W",
        "outputId": "4edc7d6a-2f93-4d40-946b-45e6a9ffd847"
      },
      "execution_count": 10,
      "outputs": [
        {
          "output_type": "stream",
          "name": "stdout",
          "text": [
            "Error: source.txt not found. Please check the file name and path.\n"
          ]
        }
      ]
    },
    {
      "cell_type": "markdown",
      "source": [
        "5.How would you catch and handle division by zero error in Python?"
      ],
      "metadata": {
        "id": "XZcOWYHJklYp"
      }
    },
    {
      "cell_type": "code",
      "source": [
        "try:\n",
        "    a = int(input(\"Enter numerator: \"))\n",
        "    b = int(input(\"Enter denominator: \"))\n",
        "    result = a / b\n",
        "    print(\"Result:\", result)\n",
        "except ZeroDivisionError:\n",
        "    print(\"Error: Division by zero is not allowed.\")\n"
      ],
      "metadata": {
        "colab": {
          "base_uri": "https://localhost:8080/"
        },
        "id": "xMF3aeW0krdX",
        "outputId": "0008c1a4-3aa4-4f6e-e232-0bb34e8d3cf7"
      },
      "execution_count": 11,
      "outputs": [
        {
          "output_type": "stream",
          "name": "stdout",
          "text": [
            "Enter numerator: 2\n",
            "Enter denominator: 4\n",
            "Result: 0.5\n"
          ]
        }
      ]
    },
    {
      "cell_type": "markdown",
      "source": [
        "6.Write a Python program that logs an error message to a log file when a division by zero exception occurs?"
      ],
      "metadata": {
        "id": "CZdbOQEtk2Id"
      }
    },
    {
      "cell_type": "code",
      "source": [
        "import logging\n",
        "\n",
        "# Configure logging\n",
        "logging.basicConfig(filename='error.log', level=logging.ERROR,\n",
        "                    format='%(asctime)s - %(levelname)s - %(message)s')\n",
        "\n",
        "def divide(a, b):\n",
        "    try:\n",
        "        result = a / b\n",
        "        print(\"Result:\", result)\n",
        "    except ZeroDivisionError:\n",
        "        logging.error(\"Attempted to divide by zero.\")\n",
        "        print(\"Error: Cannot divide by zero!\")\n",
        "\n",
        "# Example usage\n",
        "divide(10, 2)  # Works fine\n",
        "divide(5, 0)   # Logs error\n"
      ],
      "metadata": {
        "colab": {
          "base_uri": "https://localhost:8080/"
        },
        "id": "IhDza67nk6nF",
        "outputId": "705fe864-80cc-496b-c4cc-4734d9a5dfdd"
      },
      "execution_count": 12,
      "outputs": [
        {
          "output_type": "stream",
          "name": "stderr",
          "text": [
            "ERROR:root:Attempted to divide by zero.\n"
          ]
        },
        {
          "output_type": "stream",
          "name": "stdout",
          "text": [
            "Result: 5.0\n",
            "Error: Cannot divide by zero!\n"
          ]
        }
      ]
    },
    {
      "cell_type": "markdown",
      "source": [
        "7.How do you log information at different levels (INFO, ERROR, WARNING) in Python using the logging module?"
      ],
      "metadata": {
        "id": "Byu2QukklQxF"
      }
    },
    {
      "cell_type": "code",
      "source": [
        "import logging\n",
        "\n",
        "# Configure the logging system\n",
        "logging.basicConfig(level=logging.DEBUG, format=\"%(levelname)s: %(message)s\")\n",
        "\n",
        "# Log messages at different levels\n",
        "logging.debug(\"This is a DEBUG message\")\n",
        "logging.info(\"This is an INFO message\")\n",
        "logging.warning(\"This is a WARNING message\")\n",
        "logging.error(\"This is an ERROR message\")\n",
        "logging.critical(\"This is a CRITICAL message\")\n"
      ],
      "metadata": {
        "colab": {
          "base_uri": "https://localhost:8080/"
        },
        "id": "cD4X5kOXlenf",
        "outputId": "7a511fda-acd5-47f6-b37e-a25478b74b40"
      },
      "execution_count": 13,
      "outputs": [
        {
          "output_type": "stream",
          "name": "stderr",
          "text": [
            "WARNING:root:This is a WARNING message\n",
            "ERROR:root:This is an ERROR message\n",
            "CRITICAL:root:This is a CRITICAL message\n"
          ]
        }
      ]
    },
    {
      "cell_type": "markdown",
      "source": [
        "8.Write a program to handle a file opening error using exception handling?"
      ],
      "metadata": {
        "id": "qWoVovj9lgv9"
      }
    },
    {
      "cell_type": "code",
      "source": [
        "try:\n",
        "    # Attempt to open a file that may not exist\n",
        "    file = open(\"example.txt\", \"r\")\n",
        "    content = file.read()\n",
        "    print(content)\n",
        "    file.close()\n",
        "except FileNotFoundError:\n",
        "    # Handle the error if the file is not found\n",
        "    print(\"Error: The file was not found. Please check the file name or path.\")\n",
        "except Exception as e:\n",
        "    # Handle any other errors\n",
        "    print(f\"An unexpected error occurred: {e}\")\n"
      ],
      "metadata": {
        "colab": {
          "base_uri": "https://localhost:8080/"
        },
        "id": "__jwJWlOlq-8",
        "outputId": "2ba6156c-9259-4268-f53f-ce4d5f2840b9"
      },
      "execution_count": 14,
      "outputs": [
        {
          "output_type": "stream",
          "name": "stdout",
          "text": [
            "Error: The file was not found. Please check the file name or path.\n"
          ]
        }
      ]
    },
    {
      "cell_type": "markdown",
      "source": [
        "9. How can you read a file line by line and store its content in a list in Python?"
      ],
      "metadata": {
        "id": "KUq5eQybl0FF"
      }
    },
    {
      "cell_type": "code",
      "source": [
        "# Open the file in read mode\n",
        "try:\n",
        "    with open(\"example.txt\", \"r\") as file:\n",
        "        lines = file.readlines()  # Read all lines and store them in a list\n",
        "\n",
        "    # Print each line (removing extra newline characters)\n",
        "    lines = [line.strip() for line in lines]\n",
        "    print(lines)\n",
        "\n",
        "except FileNotFoundError:\n",
        "    print(\"Error: The file was not found.\")\n",
        "except Exception as e:\n",
        "    print(f\"An error occurred: {e}\")\n"
      ],
      "metadata": {
        "colab": {
          "base_uri": "https://localhost:8080/"
        },
        "id": "AgwwgYTYl5eM",
        "outputId": "bf6c2488-5381-4a38-bb35-e529efeaf1e6"
      },
      "execution_count": 16,
      "outputs": [
        {
          "output_type": "stream",
          "name": "stdout",
          "text": [
            "Error: The file was not found.\n"
          ]
        }
      ]
    },
    {
      "cell_type": "markdown",
      "source": [
        "10.How can you append data to an existing file in Python?"
      ],
      "metadata": {
        "id": "kWfU6vb7mJ95"
      }
    },
    {
      "cell_type": "code",
      "source": [
        "# Open the file in append mode\n",
        "with open(\"example.txt\", \"a\") as file:\n",
        "    file.write(\"\\nThis is new data added to the file.\")\n",
        "\n",
        "print(\"Data appended successfully!\")\n"
      ],
      "metadata": {
        "colab": {
          "base_uri": "https://localhost:8080/"
        },
        "id": "imxc2Hd-mOTi",
        "outputId": "dc4bfff9-0299-4905-be4a-39e3c4b3ff5e"
      },
      "execution_count": 17,
      "outputs": [
        {
          "output_type": "stream",
          "name": "stdout",
          "text": [
            "Data appended successfully!\n"
          ]
        }
      ]
    },
    {
      "cell_type": "markdown",
      "source": [
        "11.Write a Python program that uses a try-except block to handle an error when attempting to access a\n",
        "dictionary key that doesn't exist?"
      ],
      "metadata": {
        "id": "ZIXqnKi2mV_H"
      }
    },
    {
      "cell_type": "code",
      "source": [
        "# Define a sample dictionary\n",
        "my_dict = {\"name\": \"Alice\", \"age\": 25}\n",
        "\n",
        "try:\n",
        "    # Attempt to access a key that may not exist\n",
        "    print(my_dict[\"city\"])\n",
        "except KeyError:\n",
        "    # Handle the error if the key is not found\n",
        "    print(\"Key not found in the dictionary!\")\n"
      ],
      "metadata": {
        "colab": {
          "base_uri": "https://localhost:8080/"
        },
        "id": "e80nXL5qmbto",
        "outputId": "f3d36cdf-576d-4ca7-e6e6-8428a460f364"
      },
      "execution_count": 18,
      "outputs": [
        {
          "output_type": "stream",
          "name": "stdout",
          "text": [
            "Key not found in the dictionary!\n"
          ]
        }
      ]
    },
    {
      "cell_type": "markdown",
      "source": [
        "12.Write a program that demonstrates using multiple except blocks to handle different types of exceptions?"
      ],
      "metadata": {
        "id": "whwO2kWPmlOA"
      }
    },
    {
      "cell_type": "code",
      "source": [
        "try:\n",
        "    # Get two numbers from the user\n",
        "    num1 = int(input(\"Enter a number: \"))\n",
        "    num2 = int(input(\"Enter another number: \"))\n",
        "\n",
        "    # Perform division\n",
        "    result = num1 / num2\n",
        "\n",
        "    # Access an index in a list\n",
        "    my_list = [1, 2, 3]\n",
        "    index = int(input(\"Enter an index: \"))\n",
        "    print(\"Element at index:\", my_list[index])\n",
        "\n",
        "except ValueError:\n",
        "    print(\"Error: Invalid input! Please enter a valid number.\")\n",
        "\n",
        "except ZeroDivisionError:\n",
        "    print(\"Error: Cannot divide by zero!\")\n",
        "\n",
        "except IndexError:\n",
        "    print(\"Error: Index out of range!\")\n",
        "\n",
        "except Exception as e:\n",
        "    print(f\"An unexpected error occurred: {e}\")\n",
        "\n",
        "else:\n",
        "    print(\"Operation successful! The result is:\", result)\n",
        "\n",
        "finally:\n",
        "    print(\"Program execution completed.\")\n"
      ],
      "metadata": {
        "colab": {
          "base_uri": "https://localhost:8080/"
        },
        "id": "_gbSV9q6mpoz",
        "outputId": "b039fbc0-859a-4f96-d4e2-1928ddaddf99"
      },
      "execution_count": 19,
      "outputs": [
        {
          "output_type": "stream",
          "name": "stdout",
          "text": [
            "Enter a number: 2\n",
            "Enter another number: 4\n",
            "Enter an index: 3\n",
            "Error: Index out of range!\n",
            "Program execution completed.\n"
          ]
        }
      ]
    },
    {
      "cell_type": "markdown",
      "source": [
        "13.How would you check if a file exists before attempting to read it in Python?"
      ],
      "metadata": {
        "id": "f41yJnqPm1AK"
      }
    },
    {
      "cell_type": "code",
      "source": [
        "from pathlib import Path\n",
        "\n",
        "file_path = Path(\"example.txt\")\n",
        "\n",
        "if file_path.exists():\n",
        "    with file_path.open(\"r\") as file:\n",
        "        content = file.read()\n",
        "        print(content)\n",
        "else:\n",
        "    print(\"File does not exist.\")\n"
      ],
      "metadata": {
        "colab": {
          "base_uri": "https://localhost:8080/"
        },
        "id": "Mtrr27Nxm6B-",
        "outputId": "0b030840-d071-47f7-d833-6e253a01e9d3"
      },
      "execution_count": 20,
      "outputs": [
        {
          "output_type": "stream",
          "name": "stdout",
          "text": [
            "\n",
            "This is new data added to the file.\n"
          ]
        }
      ]
    },
    {
      "cell_type": "markdown",
      "source": [
        "14.Write a program that uses the logging module to log both informational and error messages?"
      ],
      "metadata": {
        "id": "BLUND4HOnEPW"
      }
    },
    {
      "cell_type": "code",
      "source": [
        "import logging\n",
        "\n",
        "# Configure logging\n",
        "logging.basicConfig(level=logging.DEBUG,\n",
        "                    format='%(asctime)s - %(levelname)s - %(message)s',\n",
        "                    filename='app.log', filemode='w')\n",
        "\n",
        "# Log an informational message\n",
        "logging.info(\"This is an informational message.\")\n",
        "\n",
        "# Log an error message\n",
        "try:\n",
        "    result = 10 / 0  # This will raise a ZeroDivisionError\n",
        "except ZeroDivisionError as e:\n",
        "    logging.error(\"An error occurred: %s\", e)"
      ],
      "metadata": {
        "colab": {
          "base_uri": "https://localhost:8080/"
        },
        "id": "5Zl17YdNnK6Q",
        "outputId": "a9680691-f843-473f-85b0-7298f91f4274"
      },
      "execution_count": 21,
      "outputs": [
        {
          "output_type": "stream",
          "name": "stderr",
          "text": [
            "ERROR:root:An error occurred: division by zero\n"
          ]
        }
      ]
    },
    {
      "cell_type": "markdown",
      "source": [
        "15.Write a Python program that prints the content of a file and handles the case when the file is empty?"
      ],
      "metadata": {
        "id": "Cb1slcBdnUOr"
      }
    },
    {
      "cell_type": "code",
      "source": [
        "def read_file(filename):\n",
        "    try:\n",
        "        with open(filename, \"r\") as file:\n",
        "            content = file.read()\n",
        "            if content.strip():  # Check if the file is not empty\n",
        "                print(\"File Content:\\n\", content)\n",
        "            else:\n",
        "                print(\"The file is empty.\")\n",
        "    except FileNotFoundError:\n",
        "        print(\"Error: File not found.\")\n",
        "    except Exception as e:\n",
        "        print(f\"An error occurred: {e}\")\n",
        "\n",
        "# Example usage\n",
        "filename = \"sample.txt\"  # Change this to the file you want to read\n",
        "read_file(filename)\n"
      ],
      "metadata": {
        "colab": {
          "base_uri": "https://localhost:8080/"
        },
        "id": "4nH4GikfnYxX",
        "outputId": "7085fb89-068d-4e68-f80a-7b1a37ff1524"
      },
      "execution_count": 22,
      "outputs": [
        {
          "output_type": "stream",
          "name": "stdout",
          "text": [
            "Error: File not found.\n"
          ]
        }
      ]
    },
    {
      "cell_type": "markdown",
      "source": [
        "16.Demonstrate how to use memory profiling to check the memory usage of a small program?"
      ],
      "metadata": {
        "id": "hWWZ7xyIpITH"
      }
    },
    {
      "cell_type": "markdown",
      "source": [
        "You're right! The `@profile` decorator requires the script to be run in a special way. Here’s the correct approach:\n",
        "\n",
        "### **Correct Way to Use `memory_profiler`**\n",
        "\n",
        "#### **Step 1: Install `memory_profiler`**\n",
        "```bash\n",
        "pip install memory_profiler\n",
        "```\n",
        "\n",
        "#### **Step 2: Write the Code**\n",
        "```python\n",
        "from memory_profiler import memory_usage\n",
        "import time\n",
        "\n",
        "def my_function():\n",
        "    # Simulating memory usage with a large list\n",
        "    data = [i for i in range(1000000)]\n",
        "    time.sleep(2)  # Pause to simulate processing\n",
        "    return sum(data)\n",
        "\n",
        "if __name__ == \"__main__\":\n",
        "    mem_usage = memory_usage(my_function)\n",
        "    print(f\"Memory used: {max(mem_usage) - min(mem_usage)} MB\")\n",
        "```\n",
        "\n",
        "#### **Step 3: Run the Code**\n",
        "Simply run:\n",
        "```bash\n",
        "python memory_test.py\n",
        "```\n",
        "\n",
        "### **Alternative: Using `@profile`**\n",
        "For the `@profile` decorator to work, **do NOT run the script normally**. Instead:\n",
        "\n",
        "1. Write the following code in `memory_test.py`:\n",
        "   ```python\n",
        "   from memory_profiler import profile\n",
        "\n",
        "   @profile\n",
        "   def my_function():\n",
        "       data = [i for i in range(1000000)]\n",
        "       return sum(data)\n",
        "\n",
        "   if __name__ == \"__main__\":\n",
        "       my_function()\n",
        "   ```\n",
        "\n",
        "2. Run it with:\n",
        "   ```bash\n",
        "   python -m memory_profiler memory_test.py\n",
        "   ```\n",
        "\n",
        "---\n",
        "\n",
        "### **Explanation**\n",
        "1. `memory_usage(my_function)`: Measures memory usage before, during, and after the function runs.\n",
        "2. `@profile`: Used when running via `memory_profiler` module.\n",
        "\n",
        "Would you like more details on the memory output? 🚀"
      ],
      "metadata": {
        "id": "NdYsGj2Sprtr"
      }
    },
    {
      "cell_type": "markdown",
      "source": [
        "17. Write a Python program to create and write a list of numbers to a file, one number per line?"
      ],
      "metadata": {
        "id": "Go6MHqVxptRi"
      }
    },
    {
      "cell_type": "code",
      "source": [
        "# Define a list of numbers\n",
        "numbers = [1, 2, 3, 4, 5]\n",
        "\n",
        "# Open a file in write mode\n",
        "with open(\"numbers.txt\", \"w\") as file:\n",
        "    # Write each number to the file\n",
        "    for number in numbers:\n",
        "        file.write(str(number) + \"\\n\")  # Convert number to string and add newline\n",
        "\n",
        "print(\"Numbers written to numbers.txt\")\n"
      ],
      "metadata": {
        "colab": {
          "base_uri": "https://localhost:8080/"
        },
        "id": "38zdEjFxp3Db",
        "outputId": "72028948-fafc-4adb-cd4b-d8c6d8af9229"
      },
      "execution_count": 27,
      "outputs": [
        {
          "output_type": "stream",
          "name": "stdout",
          "text": [
            "Numbers written to numbers.txt\n"
          ]
        }
      ]
    },
    {
      "cell_type": "markdown",
      "source": [
        "18.How would you implement a basic logging setup that logs to a file with rotation after 1MB?"
      ],
      "metadata": {
        "id": "VMOkS4puqBpe"
      }
    },
    {
      "cell_type": "code",
      "source": [
        "import logging\n",
        "from logging.handlers import RotatingFileHandler\n",
        "\n",
        "# Configure logging\n",
        "log_file = \"app.log\"\n",
        "\n",
        "logger = logging.getLogger(\"MyLogger\")\n",
        "logger.setLevel(logging.DEBUG)  # Set log level\n",
        "\n",
        "# Create a rotating file handler (1MB max size, keeps 3 backups)\n",
        "handler = RotatingFileHandler(log_file, maxBytes=1_000_000, backupCount=3)\n",
        "handler.setFormatter(logging.Formatter('%(asctime)s - %(levelname)s - %(message)s'))\n",
        "\n",
        "# Add handler to logger\n",
        "logger.addHandler(handler)\n",
        "\n",
        "# Example log messages\n",
        "for i in range(10000):  # Simulate logging messages\n",
        "    logger.info(f\"Log message {i}\")\n"
      ],
      "metadata": {
        "id": "RgXYF1ZZrYaP"
      },
      "execution_count": null,
      "outputs": []
    },
    {
      "cell_type": "markdown",
      "source": [
        "19.Write a program that handles both IndexError and KeyError using a try-except block?"
      ],
      "metadata": {
        "id": "IpZw5idMqVeM"
      }
    },
    {
      "cell_type": "code",
      "source": [
        "try:\n",
        "    # List example (IndexError)\n",
        "    my_list = [1, 2, 3]\n",
        "    print(my_list[5])  # This will raise an IndexError\n",
        "\n",
        "    # Dictionary example (KeyError)\n",
        "    my_dict = {\"a\": 10, \"b\": 20}\n",
        "    print(my_dict[\"c\"])  # This will raise a KeyError\n",
        "\n",
        "except IndexError:\n",
        "    print(\"IndexError: Tried to access an index that does not exist.\")\n",
        "\n",
        "except KeyError:\n",
        "    print(\"KeyError: Tried to access a key that does not exist in the dictionary.\")\n"
      ],
      "metadata": {
        "id": "aw6e4u8tq13_"
      },
      "execution_count": null,
      "outputs": []
    },
    {
      "cell_type": "markdown",
      "source": [
        "20.How would you open a file and read its contents using a context manager in Python?"
      ],
      "metadata": {
        "id": "BnjYlA5orkdz"
      }
    },
    {
      "cell_type": "code",
      "source": [
        "# Open and read a file using a context manager\n",
        "with open(\"example.txt\", \"r\") as file:\n",
        "    content = file.read()\n",
        "\n",
        "print(content)  # Display the file contents\n"
      ],
      "metadata": {
        "id": "zo1iP4I8r1Cx"
      },
      "execution_count": null,
      "outputs": []
    },
    {
      "cell_type": "markdown",
      "source": [
        "21.Write a Python program that reads a file and prints the number of occurrences of a specific word?"
      ],
      "metadata": {
        "id": "M5k6gXk5sAPA"
      }
    },
    {
      "cell_type": "code",
      "source": [
        "# Function to count occurrences of a word in a file\n",
        "def count_word_occurrences(filename, word):\n",
        "    try:\n",
        "        with open(filename, 'r', encoding='utf-8') as file:\n",
        "            content = file.read().lower()  # Read file and convert to lowercase\n",
        "            return content.split().count(word.lower())  # Count occurrences\n",
        "    except FileNotFoundError:\n",
        "        print(\"File not found. Please check the filename and try again.\")\n",
        "        return None\n",
        "\n",
        "# Example usage\n",
        "filename = \"sample.txt\"  # Change this to your file name\n",
        "word_to_find = \"python\"   # Change this to the word you want to count\n",
        "count = count_word_occurrences(filename, word_to_find)\n",
        "\n",
        "if count is not None:\n",
        "    print(f\"The word '{word_to_find}' appears {count} times in '{filename}'.\")\n"
      ],
      "metadata": {
        "id": "t-L1EZ-ssIDB"
      },
      "execution_count": null,
      "outputs": []
    },
    {
      "cell_type": "markdown",
      "source": [
        "22.How can you check if a file is empty before attempting to read its contents"
      ],
      "metadata": {
        "id": "J6B2IDHZsPNf"
      }
    },
    {
      "cell_type": "code",
      "source": [
        "import os\n",
        "\n",
        "file_path = \"example.txt\"\n",
        "\n",
        "if os.path.getsize(file_path) == 0:\n",
        "    print(\"The file is empty.\")\n",
        "else:\n",
        "    with open(file_path, \"r\") as file:\n",
        "        content = file.read()\n",
        "        print(\"File contents:\", content)\n"
      ],
      "metadata": {
        "id": "uxdUDwx7sTpJ"
      },
      "execution_count": null,
      "outputs": []
    },
    {
      "cell_type": "markdown",
      "source": [
        "23.Write a Python program that writes to a log file when an error occurs during file handling?"
      ],
      "metadata": {
        "id": "G0yBOAvQsZfa"
      }
    },
    {
      "cell_type": "code",
      "source": [
        "import logging\n",
        "\n",
        "# Configure logging\n",
        "logging.basicConfig(filename='error.log', level=logging.ERROR,\n",
        "                    format='%(asctime)s - %(levelname)s - %(message)s')\n",
        "\n",
        "def read_file(filename):\n",
        "    try:\n",
        "        with open(filename, 'r') as file:\n",
        "            return file.read()\n",
        "    except Exception as e:\n",
        "        logging.error(f\"Error occurred while reading {filename}: {e}\")\n",
        "        print(\"An error occurred! Check error.log for details.\")\n",
        "\n",
        "# Example usage\n",
        "read_file(\"non_existent_file.txt\")"
      ],
      "metadata": {
        "id": "v3R26xlNsfBp"
      },
      "execution_count": null,
      "outputs": []
    }
  ]
}